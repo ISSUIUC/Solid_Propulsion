{
 "cells": [
  {
   "cell_type": "code",
   "execution_count": 32,
   "id": "cc2fa546-6aca-4fcd-a1b7-1ac7c6f3123c",
   "metadata": {},
   "outputs": [
    {
     "name": "stdout",
     "output_type": "stream",
     "text": [
      "1.2265360476644844\n",
      "7.770612997006273\n"
     ]
    }
   ],
   "source": [
    "#Optimum Expansion Ratio Equation\n",
    "import math\n",
    "\n",
    "psi = 950\n",
    "\n",
    "#diameter of the throat\n",
    "Dstar = 0.44 #inches\n",
    "\n",
    "#Stagnation Pressure (chamber pressure), atmosphers\n",
    "Po = psi*0.06805\n",
    "\n",
    "#Pressure at nozzle exit plane, atmospheres\n",
    "Pe = 1\n",
    "\n",
    "#ratio of specific heat or isentropic exponent\n",
    "k = 1.25\n",
    "\n",
    "x = ((k+1)/2)**(1/(k-1)) * (Pe/Po)**(1/k) \n",
    "\n",
    "#equation under squareroot\n",
    "root = ( ((k+1)/(k-1)) * (1 - (Pe/Po)**((k-1)/k)) )**0.5\n",
    "\n",
    "\n",
    "# Astar/Ae\n",
    "ratio = x*root\n",
    "\n",
    "# Ae/Astar \n",
    "reciprocal = 1/ratio\n",
    "\n",
    "# Astar area \n",
    "A = math.pi/4 * (Dstar)**2\n",
    "\n",
    "# Exit cone diameter obtained by the area recipocal and throat diameter\n",
    "Dexit = math.sqrt((4*A*reciprocal)/math.pi)\n",
    "print(Dexit)\n",
    "print(reciprocal)"
   ]
  },
  {
   "cell_type": "code",
   "execution_count": null,
   "id": "9d2bcdc7-6ee6-4535-94c8-2ea74e22fff7",
   "metadata": {},
   "outputs": [],
   "source": []
  }
 ],
 "metadata": {
  "kernelspec": {
   "display_name": "Python 3 (ipykernel)",
   "language": "python",
   "name": "python3"
  },
  "language_info": {
   "codemirror_mode": {
    "name": "ipython",
    "version": 3
   },
   "file_extension": ".py",
   "mimetype": "text/x-python",
   "name": "python",
   "nbconvert_exporter": "python",
   "pygments_lexer": "ipython3",
   "version": "3.9.10"
  }
 },
 "nbformat": 4,
 "nbformat_minor": 5
}
